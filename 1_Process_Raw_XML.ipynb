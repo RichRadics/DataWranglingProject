{
 "cells": [
  {
   "cell_type": "code",
   "execution_count": null,
   "metadata": {
    "collapsed": true
   },
   "outputs": [],
   "source": [
    "# Source file from https://mapzen.com/data/metro-extracts https://s3.amazonaws.com/metro-extracts.mapzen.com/liverpool_england.osm.bz2"
   ]
  },
  {
   "cell_type": "code",
   "execution_count": 3,
   "metadata": {
    "collapsed": false
   },
   "outputs": [],
   "source": [
    "# Import required libraries\n",
    "import xml.etree.cElementTree as ET\n",
    "import pprint\n",
    "import re\n",
    "from collections import defaultdict\n",
    "import codecs\n",
    "import json\n",
    "\n",
    "# Declare globals\n",
    "lower = re.compile(r'^([a-z]|_)*$')\n",
    "lower_colon = re.compile(r'^([a-z]|_)*:([a-z]|_)*$')\n",
    "problemchars = re.compile(r'[=\\+/&<>;\\'\"\\?%#$@\\,\\. \\t\\r\\n]')\n",
    "street_type_re = re.compile(r'\\b\\S+\\.?$', re.IGNORECASE)\n",
    "### DOCNOTE regex below taken from http://stackoverflow.com/questions/164979/uk-postcode-regex-comprehensive, answer provided by Colin\n",
    "### DOCNOTE tested with regex101.com\n",
    "postcode_re = re.compile(r'^(GIR ?0AA|[A-PR-UWYZ]([0-9]{1,2}|([A-HK-Y][0-9]([0-9ABEHMNPRV-Y])?)|[0-9][A-HJKPS-UW]) ?[0-9][ABD-HJLNP-UW-Z]{2})$')\n",
    "\n",
    "CREATED = [ \"version\", \"changeset\", \"timestamp\", \"user\", \"uid\"]\n",
    "expectedStreetTypes = [\"Street\", \"Avenue\", \"Boulevard\", \"Drive\", \"Court\", \"Place\", \"Square\", \"Lane\", \"Road\", \n",
    "            \"Close\", \"Terrace\", 'Grove','Crescent', 'Way', 'Mews','View']"
   ]
  },
  {
   "cell_type": "code",
   "execution_count": 4,
   "metadata": {
    "collapsed": true
   },
   "outputs": [],
   "source": [
    "# Utility functions to create sample files\n",
    "def get_element_for_sample(osm_file, tags=('node', 'way', 'relation')):\n",
    "    \"\"\"Yield element if it is the right type of tag\n",
    "\n",
    "    Reference:\n",
    "    http://stackoverflow.com/questions/3095434/inserting-newlines-in-xml-file-generated-via-xml-etree-elementtree-in-python\n",
    "    \"\"\"\n",
    "    context = ET.iterparse(osm_file, events=('start', 'end'))\n",
    "    _, root = next(context)\n",
    "    for event, elem in context:\n",
    "        if event == 'end' and elem.tag in tags:\n",
    "            yield elem\n",
    "            root.clear()\n",
    "            \n",
    "def create_sample_file(osm_file, step = 10):\n",
    "    sample_file = \"{0}.sample\".format(osm_file)\n",
    "    with open(sample_file, 'wb') as output:\n",
    "        output.write('<?xml version=\"1.0\" encoding=\"UTF-8\"?>\\n')\n",
    "        output.write('<osm>\\n  ')\n",
    "        # Write every 10th top level element\n",
    "        for i, element in enumerate(get_element_for_sample(osm_file)):\n",
    "            if i % step == 0:\n",
    "                output.write(ET.tostring(element, encoding='utf-8'))\n",
    "        output.write('</osm>')\n",
    "    return sample_file\n",
    "    \n",
    "\n",
    "\n"
   ]
  },
  {
   "cell_type": "code",
   "execution_count": 5,
   "metadata": {
    "collapsed": false
   },
   "outputs": [],
   "source": [
    "# Auditing functions\n",
    "def audit_street_type(in_dict, street_name):\n",
    "    m = street_type_re.search(street_name)\n",
    "    if m:\n",
    "        street_type = m.group()\n",
    "        if street_type not in expectedStreetTypes:\n",
    "            in_dict[street_type].add(street_name)\n",
    "\n",
    "def audit_postcode(in_dict, postcode):\n",
    "    if not postcode_re.match(postcode):\n",
    "        in_dict[postcode].add(postcode)\n",
    "\n",
    "\n",
    "def is_street_name(elem):\n",
    "    # Does this tag have a 'street' key?\n",
    "    return (elem.attrib['k'] == \"addr:street\")\n",
    "\n",
    "def is_postcode(elem):\n",
    "    # Does this tag have a 'postcode' key?\n",
    "    return (elem.attrib['k'] == \"addr:postcode\")\n",
    "\n",
    "\n",
    "def audit(osmfile, audit_type = 'streetnames'):\n",
    "    # Audit shell\n",
    "    # Open the file, search for 'node' or 'way' nodes, then check for audit items\n",
    "    osm_file = open(osmfile, \"r\")\n",
    "    # Define empty result dictionary\n",
    "    res = defaultdict(set)\n",
    "    for _, elem in ET.iterparse(osm_file, events=(\"start\",)):\n",
    "        if elem.tag == \"node\" or elem.tag == \"way\":\n",
    "            for tag in elem.iter(\"tag\"):\n",
    "                if audit_type=='streetnames':\n",
    "                    if is_street_name(tag):\n",
    "                        audit_street_type(res, tag.attrib['v'])\n",
    "                if audit_type=='postcodes':\n",
    "                    if is_postcode(tag):\n",
    "                        audit_postcode(res,tag.attrib['v'])\n",
    "        # Important! Must call 'clear' method when working with very large datasets to avoid seg faults\n",
    "        elem.clear()\n",
    "    return res"
   ]
  },
  {
   "cell_type": "code",
   "execution_count": 6,
   "metadata": {
    "collapsed": true
   },
   "outputs": [],
   "source": [
    "# Final file processing \n",
    "def shape_element(element):\n",
    "    # Function to convert useful data in an XML element into JSON, simply by building a dictionary\n",
    "    # Taken (and adapted) from the Lesson 6 scripts\n",
    "    node = {}\n",
    "    # Only interested in 'node' and 'way' elements\n",
    "    if element.tag == \"node\" or element.tag == \"way\" :\n",
    "        node['type']=element.tag\n",
    "        for el in element.iter():\n",
    "            if el.tag=='tag':\n",
    "                # special tag parsing\n",
    "                k = el.get('k')\n",
    "                v = el.get('v')\n",
    "                if not problemchars.match(k):\n",
    "                    # Break the 'addr' keys into a child set\n",
    "                    if k.startswith('addr:'):\n",
    "                        addr=k.split(':')\n",
    "                        if len(addr)==2:\n",
    "                            if 'address' not in node: node['address']={}\n",
    "                            #################  DATA CLEANSING ################    \n",
    "                            if addr[1]=='postcode':\n",
    "                                # Postcode cleaning - remove trailing special characters    \n",
    "                                if problemchars.match(v[::-1][0]): v = v[::-1][1:][::-1]\n",
    "                            #################################################    \n",
    "                            node['address'][addr[1]]=v\n",
    "                    else:\n",
    "                        node[k]=v\n",
    "            else:\n",
    "                # 'normal' elements\n",
    "                for at in el.attrib:\n",
    "                    if at in CREATED:\n",
    "                        if 'created' not in node: node['created']={}\n",
    "                        node['created'][at]=el.get(at)\n",
    "                    elif at in {'lat','lon'}:\n",
    "                        if 'pos' not in node: node['pos']=[]\n",
    "                        node['pos'].insert(0,float(el.get(at)))\n",
    "                    elif element.tag=='way' and el.tag=='nd' and at=='ref':\n",
    "                        if 'node_refs' not in node: node['node_refs']=[]\n",
    "                        node['node_refs'].append(el.get(at))\n",
    "                    else:\n",
    "                        node[at]=el.get(at)\n",
    "        return node\n",
    "    else:\n",
    "        return None\n",
    "\n",
    "\n",
    "def process_map(file_in, pretty = False):\n",
    "    # Parse an input XML file into JSON\n",
    "    file_out = \"{0}.json\".format(file_in)\n",
    "    data = []\n",
    "    with open(file_out, \"w\") as fo:\n",
    "        for _, element in ET.iterparse(file_in, ('start',)):\n",
    "            el = shape_element(element)\n",
    "            if el:\n",
    "                data.append(el)\n",
    "                if pretty:\n",
    "                    fo.write(json.dumps(el, indent=2)+\"\\n\")\n",
    "                else:\n",
    "                    fo.write(json.dumps(el) + \"\\n\")\n",
    "            element.clear()\n",
    "    return data"
   ]
  },
  {
   "cell_type": "code",
   "execution_count": 8,
   "metadata": {
    "collapsed": false
   },
   "outputs": [],
   "source": [
    "# 1. Sample file + audits\n",
    "source_file = 'liverpool_england.osm'\n",
    "# Create a 1/30th scale sample file - this fits the 1-10MB size requirement\n",
    "sample_file = create_sample_file(source_file,50)\n",
    "\n",
    "# Generate audits for postcodes and street names\n",
    "audit_streets = audit(sample_file, 'streetnames')\n",
    "audit_postcodes = audit(sample_file, 'postcodes')\n",
    "\n",
    "# Create a sample JSON file\n",
    "process_map(sample_file)"
   ]
  },
  {
   "cell_type": "code",
   "execution_count": 19,
   "metadata": {
    "collapsed": false
   },
   "outputs": [
    {
     "name": "stdout",
     "output_type": "stream",
     "text": [
      "{'Beechway': set(['Beechway']),\n",
      " 'Croft': set(['Cypress Croft']),\n",
      " 'Dell': set(['Noctorum Dell', 'The Dell']),\n",
      " 'East': set(['Delta Road East']),\n",
      " 'Flaxhill': set(['Flaxhill']),\n",
      " 'Hill': set(['Brownlow Hill']),\n",
      " 'North': set(['Park Road North']),\n",
      " 'Parade': set(['South Parade']),\n",
      " 'Park': set(['Sandfield Park']),\n",
      " 'Pipers': set(['The Pipers']),\n",
      " 'Rise': set(['Pipistrelle Rise']),\n",
      " 'Shorefields': set(['Shorefields']),\n",
      " 'Summerwood': set(['Summerwood'])}\n",
      "{}\n",
      "['Croft', 'Shorefields', 'North', 'Parade', 'Rise', 'Park', 'Dell', 'Beechway', 'Flaxhill', 'Summerwood', 'Hill', 'East', 'Pipers']\n"
     ]
    }
   ],
   "source": [
    "# Examine the audit results\n",
    "pprint.pprint(dict(audit_streets))\n",
    "pprint.pprint(dict(audit_postcodes))\n"
   ]
  },
  {
   "cell_type": "code",
   "execution_count": null,
   "metadata": {
    "collapsed": true
   },
   "outputs": [],
   "source": [
    "# 2. Run the JSON conversion for the full map\n",
    "process_map(source_file)"
   ]
  }
 ],
 "metadata": {
  "kernelspec": {
   "display_name": "Python 2",
   "language": "python",
   "name": "python2"
  },
  "language_info": {
   "codemirror_mode": {
    "name": "ipython",
    "version": 2
   },
   "file_extension": ".py",
   "mimetype": "text/x-python",
   "name": "python",
   "nbconvert_exporter": "python",
   "pygments_lexer": "ipython2",
   "version": "2.7.6"
  }
 },
 "nbformat": 4,
 "nbformat_minor": 0
}
