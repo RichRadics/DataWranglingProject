{
 "cells": [
  {
   "cell_type": "code",
   "execution_count": 92,
   "metadata": {
    "collapsed": false
   },
   "outputs": [],
   "source": [
    "import pprint\n",
    "import datetime\n",
    "import time\n",
    "from pymongo import MongoClient\n",
    "\n",
    "client = MongoClient('192.168.0.29:27017')\n",
    "db = client['test']\n",
    "\n",
    "def do_aggregate(collection, query):\n",
    "    cursor = collection.aggregate(query)\n",
    "    return [x for x in cursor]\n"
   ]
  },
  {
   "cell_type": "code",
   "execution_count": null,
   "metadata": {
    "collapsed": true
   },
   "outputs": [],
   "source": [
    "# 1. Total record count\n",
    "print 'Record count'\n",
    "print db.liverpool.count()\n",
    "print '\\n'"
   ]
  },
  {
   "cell_type": "code",
   "execution_count": null,
   "metadata": {
    "collapsed": true
   },
   "outputs": [],
   "source": [
    "# 2. Count of nodes/ways\n",
    "print 'Node/way element frequency'\n",
    "pipeline = [{'$match':{'$or':[{'type':\"way\"},{'type':\"node\"}]}},\n",
    "             {'$group': {'_id': '$type', 'count': {'$sum':1}}},\n",
    "             {\"$limit\": 2}]\n",
    "\n",
    "agg1 = do_aggregate(db.liverpool, pipeline)\n",
    "for x in agg1:\n",
    "    print x['_id'], '\\t', x['count']\n",
    "print '\\n'\n",
    "   "
   ]
  },
  {
   "cell_type": "code",
   "execution_count": null,
   "metadata": {
    "collapsed": true
   },
   "outputs": [],
   "source": [
    " \n",
    "# 3. Unique users    \n",
    "print 'Unique users:'\n",
    "print len(db.liverpool.distinct('created.user'))\n",
    "print '\\n'"
   ]
  },
  {
   "cell_type": "code",
   "execution_count": null,
   "metadata": {
    "collapsed": true
   },
   "outputs": [],
   "source": [
    "# 4. Top 5 contributors as percentage of contributions\n",
    "totalUserPosts=db.liverpool.count({\"created.user\": {\"$exists\": True}})\n",
    "pipeline = [{\"$match\": {\"created.user\": { \"$exists\": True }}},\n",
    "            {\"$group\":{\"_id\":\"$created.user\",\"count\":{\"$sum\":1}}},\n",
    "            {\"$project\":\n",
    "                {\"count\":1,\"percentage\":{\"$multiply\":[{\"$divide\":[100,totalUserPosts]},\"$count\"]}}\n",
    "            },\n",
    "            {\"$sort\" : {\"count\": -1}},\n",
    "            {\"$limit\": 5}]\n",
    "\n",
    "    \n",
    "agg2 = do_aggregate(db.liverpool, pipeline)\n",
    "print 'Users by contribution percentage'\n",
    "for x in agg2:\n",
    "    print x['_id'], x['count'], \"%.2f\" % x['percentage']\n",
    "print '\\n'"
   ]
  },
  {
   "cell_type": "code",
   "execution_count": 131,
   "metadata": {
    "collapsed": false
   },
   "outputs": [
    {
     "name": "stdout",
     "output_type": "stream",
     "text": [
      "Record count\n",
      "1436842\n",
      "\n",
      "\n",
      "Node/way element frequency\n",
      "way \t242005\n",
      "node \t1194827\n",
      "\n",
      "\n",
      "Unique users:\n",
      "693\n",
      "\n",
      "\n",
      "Users by contribution percentage\n",
      "daviesp12 1066921 74.25\n",
      "jrdx 36075 2.51\n",
      "UniEagle 34564 2.41\n",
      "F1rst_Timer 22301 1.55\n",
      "duxxa 20953 1.46\n",
      "\n",
      "\n"
     ]
    }
   ],
   "source": [
    "# 5. Top 10 months for contributions \n",
    "pipeline = [{\"$match\": {\"created.user\": { \"$exists\": True }}},\n",
    "            {'$project':\n",
    "                {'username': '$created.user',\n",
    "                'year': { '$year': \"$created.timestamp\" },\n",
    "                'month': { '$month': \"$created.timestamp\" }\n",
    "                }},\n",
    "            {'$group':{'_id': {'year':'$year', 'month':'$month', 'username':'$username'}, 'count':{'$sum':1}}},\n",
    "            {'$sort': {'count':-1}},\n",
    "            {'$limit': 10}]\n",
    "agg3 = do_aggregate(db.liverpool, pipeline)\n",
    "print 'Top 10 months for contributions'\n",
    "for x in agg3:\n",
    "    print '%s\\t%s\\t%s\\t%d' % (x['_id']['year'], x['_id']['month'], x['_id']['username'],  x['count'])"
   ]
  },
  {
   "cell_type": "code",
   "execution_count": 157,
   "metadata": {
    "collapsed": false
   },
   "outputs": [
    {
     "name": "stdout",
     "output_type": "stream",
     "text": [
      "L35 9JY. 1\n",
      "L1 4LN,L1 3DN 3\n",
      "L1 1\n",
      "CH43 1\n",
      "L17 1\n",
      "CH63 3H 1\n",
      "L18 1\n"
     ]
    }
   ],
   "source": [
    "# Postcode re-assessment\n",
    "import re\n",
    "postcode_re = re.compile(r'^(GIR ?0AA|[A-PR-UWYZ]([0-9]{1,2}|([A-HK-Y][0-9]([0-9ABEHMNPRV-Y])?)|[0-9][A-HJKPS-UW]) ?[0-9][ABD-HJLNP-UW-Z]{2})$')\n",
    "pipeline = [{'$match': {'address.postcode':{'$exists':True}, }},\n",
    "            {'$match': {'address.postcode':{'$not': postcode_re}}},\n",
    "            {'$project': {'postcode':'$address.postcode'}},\n",
    "            {'$group': {'_id': '$postcode', 'count':{'$sum':1}}},\n",
    "            {'$project': {'postcode':'$_id', 'count':'$count'}},\n",
    "            {'$limit': 20}]\n",
    "            \n",
    "res = do_aggregate(db.liverpool,pipeline)\n",
    "print 'Invalid postcodes'\n",
    "for x in res:\n",
    "    print x['postcode'], x['count']"
   ]
  },
  {
   "cell_type": "code",
   "execution_count": 174,
   "metadata": {
    "collapsed": false
   },
   "outputs": [
    {
     "name": "stdout",
     "output_type": "stream",
     "text": [
      "Total postcodes: 14258\n",
      "\n",
      "set([u'CH41',\n",
      "     u'CH42',\n",
      "     u'CH421RT',\n",
      "     u'CH43',\n",
      "     u'CH439UL',\n",
      "     u'CH44',\n",
      "     u'CH45',\n",
      "     u'CH46',\n",
      "     u'CH47',\n",
      "     u'CH48',\n",
      "     u'CH49',\n",
      "     u'CH60',\n",
      "     u'CH62',\n",
      "     u'CH620DB',\n",
      "     u'CH63',\n",
      "     u'CH64',\n",
      "     u'CH65',\n",
      "     u'CH66',\n",
      "     u'L1',\n",
      "     u'L13',\n",
      "     u'L15',\n",
      "     u'L16',\n",
      "     u'L17',\n",
      "     u'L18',\n",
      "     u'L189UD',\n",
      "     u'L19',\n",
      "     u'L2',\n",
      "     u'L20',\n",
      "     u'L22',\n",
      "     u'L23',\n",
      "     u'L24',\n",
      "     u'L25',\n",
      "     u'L26',\n",
      "     u'L27',\n",
      "     u'L29',\n",
      "     u'L3',\n",
      "     u'L30',\n",
      "     u'L32',\n",
      "     u'L33',\n",
      "     u'L34',\n",
      "     u'L35',\n",
      "     u'L36',\n",
      "     u'L4',\n",
      "     u'L5',\n",
      "     u'L6',\n",
      "     u'L69',\n",
      "     u'L7',\n",
      "     u'L8',\n",
      "     u'L9',\n",
      "     u'WA10',\n",
      "     u'WA11',\n",
      "     u'WA7',\n",
      "     u'WA8'])\n"
     ]
    }
   ],
   "source": [
    "res = do_aggregate(db.liverpool, \n",
    "                   [{'$match':{'address.postcode':{'$exists':True}}},\n",
    "                    {'$project':{'postcode':'$address.postcode'}}])\n",
    "prefix = set()\n",
    "print 'Total postcodes: %d' % len(res)\n",
    "for x in res:\n",
    "    prefix.add( x['postcode'].split(' ')[0])\n",
    "print 'Unique postcode prefixes'\n",
    "pprint.pprint(prefix)\n"
   ]
  },
  {
   "cell_type": "code",
   "execution_count": null,
   "metadata": {
    "collapsed": true
   },
   "outputs": [],
   "source": []
  }
 ],
 "metadata": {
  "kernelspec": {
   "display_name": "Python 2",
   "language": "python",
   "name": "python2"
  },
  "language_info": {
   "codemirror_mode": {
    "name": "ipython",
    "version": 2
   },
   "file_extension": ".py",
   "mimetype": "text/x-python",
   "name": "python",
   "nbconvert_exporter": "python",
   "pygments_lexer": "ipython2",
   "version": "2.7.6"
  }
 },
 "nbformat": 4,
 "nbformat_minor": 0
}
